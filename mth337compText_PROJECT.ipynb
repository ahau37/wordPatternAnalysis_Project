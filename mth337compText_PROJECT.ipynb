{
 "cells": [
  {
   "cell_type": "markdown",
   "id": "00a3bbee",
   "metadata": {},
   "source": [
    "## Introduction"
   ]
  },
  {
   "cell_type": "markdown",
   "id": "a432e3b7",
   "metadata": {},
   "source": [
    "In this project, we analyzed the pattern of words in multiple texts. These pattern is set to be a way that we can visualize them. A way we did this is by reading through the texts and counting all the words. We counted all the times that words appear and sorted them in a way that shows the top 'n' amount."
   ]
  },
  {
   "cell_type": "markdown",
   "id": "da7ff86e",
   "metadata": {},
   "source": [
    "First, a function `findCommonWords` is created. It takes a text file and a integer n. It reads through the file and returns n numbers of top words appearing. For example `findCommonWords('around_world.txt', 20)` would return the top 20 words that appears in the text around_world. We use this function to help us make a dictionary of words and how many times it appears"
   ]
  },
  {
   "cell_type": "code",
   "execution_count": 1,
   "id": "e1ccb022",
   "metadata": {},
   "outputs": [],
   "source": [
    "def findCommonWords(file, n):           # takes a txt file and n amount of words most frequently appearing in that file\n",
    "    \n",
    "    with open(file, 'r', encoding=\"utf8\") as f:     # open file and reads it using encoding utf8, default doesnt work for \n",
    "        s = f.read()                                 # walden.txt,\n",
    "        f.close()\n",
    "    \n",
    "    fileSplit = s.split()                          # splits the read file by space, stores into fileSplit\n",
    "    newDict = {}                                   # initialize new dictionary\n",
    "    \n",
    "    for word in fileSplit:                         # loop through list of words\n",
    "        lowerCase = word.lower()                   # lowercase all the words\n",
    "        if lowerCase in newDict:                   # if the word is in dictionary, add 1 to its value\n",
    "            newDict[lowerCase] += 1\n",
    "        else:                                      # if not, add word into dictionary as key, and make its value 1\n",
    "            newDict[lowerCase] = 1\n",
    "            \n",
    "    sortedValue = sorted(((v, k) for k, v in newDict.items()), reverse = True)      #swaps key and value and puts it into list\n",
    "                                                                                     #then sorts it by reverse\n",
    "    sliceDictionary = {}                                  # new dictionary\n",
    "    for x in sortedValue[:n]:                             # takes slice of first n sortedValue dictionary and puts in new dict\n",
    "        sliceDictionary[x[1]] = x[0]                      # puts it by k , v\n",
    "    \n",
    "    return sliceDictionary                                # returns dictionary that is n slice"
   ]
  },
  {
   "cell_type": "code",
   "execution_count": 2,
   "id": "371a576a",
   "metadata": {},
   "outputs": [
    {
     "data": {
      "text/plain": [
       "{'the': 4672,\n",
       " 'of': 1803,\n",
       " 'and': 1769,\n",
       " 'to': 1657,\n",
       " 'a': 1293,\n",
       " 'in': 1034,\n",
       " 'was': 985,\n",
       " 'he': 928,\n",
       " 'his': 855,\n",
       " 'at': 632,\n",
       " 'with': 516,\n",
       " 'had': 503,\n",
       " 'on': 500,\n",
       " 'not': 486,\n",
       " 'which': 483,\n",
       " 'that': 463,\n",
       " 'it': 459,\n",
       " 'as': 429,\n",
       " 'for': 388,\n",
       " 'mr.': 373,\n",
       " 'fogg': 365,\n",
       " 'by': 362,\n",
       " 'from': 309}"
      ]
     },
     "execution_count": 2,
     "metadata": {},
     "output_type": "execute_result"
    }
   ],
   "source": [
    "aw_commonWords = findCommonWords('around_world.txt', 23)         # top 23 words in around_world.txt\n",
    "aw_commonWords"
   ]
  },
  {
   "cell_type": "code",
   "execution_count": 3,
   "id": "18ad1aaf",
   "metadata": {},
   "outputs": [],
   "source": [
    "import matplotlib.pyplot as plt\n",
    "import numpy as np\n",
    "import matplotlib.cm as cm"
   ]
  },
  {
   "cell_type": "markdown",
   "id": "cb382ea5",
   "metadata": {},
   "source": [
    "The graphs will show how frequently the words, that are in the top n list, appears. Each graph will have it's own function to generate this graph. It will take the length of the text and divides the amount of times a word is repeated. So we will get a decimal, then multiply by 100 to get the percent. This percent represents the % frequency of the word."
   ]
  },
  {
   "cell_type": "markdown",
   "id": "aa19e710",
   "metadata": {},
   "source": [
    "### around_world Graph"
   ]
  },
  {
   "cell_type": "code",
   "execution_count": 4,
   "id": "30a9ca4c",
   "metadata": {},
   "outputs": [],
   "source": [
    "def around_worldGraph():\n",
    "    with open('around_world.txt', 'r') as f:  # open and read file\n",
    "        s = f.read()\n",
    "        f.close()\n",
    "\n",
    "    fileSplit = s.split()\n",
    "    total = len(fileSplit)                     # total to be divided by\n",
    "\n",
    "    words = [k for k in aw_commonWords]        # list of keys (words)\n",
    "    freq = [((aw_commonWords[k] / total) * 100) for k in aw_commonWords]      # list of values (freq)\n",
    "\n",
    "    bar_plot = plt.bar(words, freq, width = 0.4, color = cm.spring(.5))       # bar plot\n",
    "    plt.xticks(fontsize=10, rotation=75)\n",
    "\n",
    "    plt.ylabel('Frequency (in %)')\n",
    "    plt.xlabel('Common Words')\n",
    "    plt.title('Percent of Common Words Appearing In around_world')"
   ]
  },
  {
   "cell_type": "code",
   "execution_count": 5,
   "id": "187045a6",
   "metadata": {},
   "outputs": [
    {
     "data": {
      "image/png": "[encoded data removed]",
      "text/plain": [
       "<Figure size 432x288 with 1 Axes>"
      ]
     },
     "metadata": {
      "needs_background": "light"
     },
     "output_type": "display_data"
    }
   ],
   "source": [
    "around_worldGraph()"
   ]
  },
  {
   "cell_type": "markdown",
   "id": "11ba332f",
   "metadata": {},
   "source": [
    "### republic Graph"
   ]
  },
  {
   "cell_type": "code",
   "execution_count": 6,
   "id": "13557524",
   "metadata": {},
   "outputs": [
    {
     "data": {
      "text/plain": [
       "{'the': 7041,\n",
       " 'and': 5672,\n",
       " 'of': 4649,\n",
       " 'to': 3280,\n",
       " 'is': 2413,\n",
       " 'in': 2136,\n",
       " 'he': 2048,\n",
       " 'a': 2007,\n",
       " 'that': 1832,\n",
       " 'be': 1801,\n",
       " 'i': 1552,\n",
       " 'which': 1298,\n",
       " 'not': 1277,\n",
       " 'are': 1246,\n",
       " 'they': 1133,\n",
       " 'or': 1115,\n",
       " 'will': 1081,\n",
       " 'you': 1069,\n",
       " 'as': 906,\n",
       " 'we': 889,\n",
       " 'have': 812,\n",
       " 'but': 804,\n",
       " 'his': 702}"
      ]
     },
     "execution_count": 6,
     "metadata": {},
     "output_type": "execute_result"
    }
   ],
   "source": [
    "r_commonWords = findCommonWords('republic.txt', 23)       # top 23 words in republic.txt\n",
    "r_commonWords"
   ]
  },
  {
   "cell_type": "code",
   "execution_count": 7,
   "id": "31d1fa80",
   "metadata": {},
   "outputs": [],
   "source": [
    "def republicGraph():\n",
    "    with open('republic.txt', 'r') as f:\n",
    "        s = f.read()\n",
    "        f.close()\n",
    "\n",
    "    fileSplit = s.split()\n",
    "    total = len(fileSplit)                     # total to be divided by\n",
    "\n",
    "    words = [k for k in r_commonWords]\n",
    "    freq = [((r_commonWords[k] / total) * 100) for k in r_commonWords]\n",
    "\n",
    "    bar_plot = plt.bar(words, freq, width = 0.4, color = cm.spring(.6))\n",
    "    plt.xticks(fontsize=10, rotation=75)\n",
    "\n",
    "    plt.ylabel('Frequency (in %)')\n",
    "    plt.xlabel('Common Words')\n",
    "    plt.title('Percent of Common Words Appearing In republic')"
   ]
  },
  {
   "cell_type": "code",
   "execution_count": 8,
   "id": "b53001f5",
   "metadata": {
    "scrolled": true
   },
   "outputs": [
    {
     "data": {
      "image/png": "[encoded data removed]",
      "text/plain": [
       "<Figure size 432x288 with 1 Axes>"
      ]
     },
     "metadata": {
      "needs_background": "light"
     },
     "output_type": "display_data"
    }
   ],
   "source": [
    "republicGraph()"
   ]
  },
  {
   "cell_type": "markdown",
   "id": "3baa7a48",
   "metadata": {},
   "source": [
    "### three_musketeers Graph"
   ]
  },
  {
   "cell_type": "code",
   "execution_count": 9,
   "id": "d8e40b35",
   "metadata": {},
   "outputs": [
    {
     "data": {
      "text/plain": [
       "{'the': 13385,\n",
       " 'to': 6501,\n",
       " 'of': 6340,\n",
       " 'and': 5388,\n",
       " 'a': 4606,\n",
       " 'in': 3243,\n",
       " 'i': 3035,\n",
       " 'that': 2971,\n",
       " 'his': 2959,\n",
       " 'he': 2788,\n",
       " 'you': 2750,\n",
       " 'was': 2430,\n",
       " 'with': 2049,\n",
       " 'had': 1832,\n",
       " 'said': 1819,\n",
       " 'is': 1785,\n",
       " 'not': 1766,\n",
       " 'as': 1701,\n",
       " 'at': 1693,\n",
       " 'it': 1543,\n",
       " 'for': 1490,\n",
       " 'have': 1443,\n",
       " 'my': 1436}"
      ]
     },
     "execution_count": 9,
     "metadata": {},
     "output_type": "execute_result"
    }
   ],
   "source": [
    "tm_commonWords = findCommonWords('three_musketeers.txt', 23)                 # top 23 words in three_musketeers.txt\n",
    "tm_commonWords"
   ]
  },
  {
   "cell_type": "code",
   "execution_count": 10,
   "id": "76a4f8e7",
   "metadata": {},
   "outputs": [],
   "source": [
    "def three_musketeersGraph():\n",
    "    with open('three_musketeers.txt', 'r') as f:\n",
    "        s = f.read()\n",
    "        f.close()\n",
    "\n",
    "    fileSplit = s.split()\n",
    "    total = len(fileSplit)                     # total to be divided by\n",
    "\n",
    "    words = [k for k in tm_commonWords]\n",
    "    freq = [((tm_commonWords[k] / total) * 100) for k in tm_commonWords]\n",
    "\n",
    "    bar_plot = plt.bar(words, freq, width = 0.4, color = cm.spring(.2))\n",
    "    plt.xticks(fontsize=10, rotation=75)\n",
    "\n",
    "    plt.ylabel('Frequency (in %)')\n",
    "    plt.xlabel('Common Words')\n",
    "    plt.title('Percent of Common Words Appearing In three_musketeers')"
   ]
  },
  {
   "cell_type": "code",
   "execution_count": 11,
   "id": "2853390a",
   "metadata": {
    "scrolled": true
   },
   "outputs": [
    {
     "data": {
      "image/png": "[encoded data removed]",
      "text/plain": [
       "<Figure size 432x288 with 1 Axes>"
      ]
     },
     "metadata": {
      "needs_background": "light"
     },
     "output_type": "display_data"
    }
   ],
   "source": [
    "three_musketeersGraph()"
   ]
  },
  {
   "cell_type": "markdown",
   "id": "42187524",
   "metadata": {},
   "source": [
    "### Walden Graph"
   ]
  },
  {
   "cell_type": "code",
   "execution_count": 12,
   "id": "b5de85d9",
   "metadata": {},
   "outputs": [
    {
     "data": {
      "text/plain": [
       "{'the': 6801,\n",
       " 'and': 4143,\n",
       " 'of': 3211,\n",
       " 'a': 2768,\n",
       " 'to': 2708,\n",
       " 'in': 1913,\n",
       " 'i': 1779,\n",
       " 'it': 1228,\n",
       " 'that': 1137,\n",
       " 'is': 1119,\n",
       " 'as': 1092,\n",
       " 'not': 871,\n",
       " 'for': 852,\n",
       " 'was': 817,\n",
       " 'or': 799,\n",
       " 'with': 797,\n",
       " 'which': 760,\n",
       " 'my': 724,\n",
       " 'but': 679,\n",
       " 'he': 676,\n",
       " 'his': 658,\n",
       " 'on': 656,\n",
       " 'by': 628}"
      ]
     },
     "execution_count": 12,
     "metadata": {},
     "output_type": "execute_result"
    }
   ],
   "source": [
    "w_commonWords = findCommonWords('walden.txt', 23)                   # top 23 words in walden.txt\n",
    "w_commonWords"
   ]
  },
  {
   "cell_type": "code",
   "execution_count": 13,
   "id": "4925cbf7",
   "metadata": {},
   "outputs": [],
   "source": [
    "def waldenGraph():\n",
    "    with open('walden.txt', 'r', encoding=\"utf8\") as f:\n",
    "        s = f.read()\n",
    "        f.close()\n",
    "\n",
    "    fileSplit = s.split()\n",
    "    total = len(fileSplit)                     # total to be divided by\n",
    "\n",
    "    words = [k for k in w_commonWords]\n",
    "    freq = [((w_commonWords[k] / total) * 100) for k in w_commonWords]\n",
    "\n",
    "    bar_plot = plt.bar(words, freq, width = 0.4, color = cm.spring(0.9))\n",
    "    plt.xticks(fontsize=10, rotation=75)\n",
    "\n",
    "    plt.ylabel('Frequency (in %)')\n",
    "    plt.xlabel('Common Words')\n",
    "    plt.title('Percent of Common Words Appearing In walden')"
   ]
  },
  {
   "cell_type": "code",
   "execution_count": 14,
   "id": "9347fbd7",
   "metadata": {},
   "outputs": [
    {
     "data": {
      "image/png": "[encoded data removed]",
      "text/plain": [
       "<Figure size 432x288 with 1 Axes>"
      ]
     },
     "metadata": {
      "needs_background": "light"
     },
     "output_type": "display_data"
    }
   ],
   "source": [
    "waldenGraph()"
   ]
  },
  {
   "cell_type": "markdown",
   "id": "78927eb6",
   "metadata": {},
   "source": [
    "## Comparing Common Words "
   ]
  },
  {
   "cell_type": "markdown",
   "id": "0a9aad95",
   "metadata": {},
   "source": [
    "Looking at the graphs and data between all four texts. We can see that for every text, the word \"the\" is the most repeated / frequent word. For every text except `around_world.txt`, it has around a 6 % frequency out of all the words in a text. In the `around_world.txt`, it appears over 7 %. Another similarity between the lists is that most of the words are the same or have similar meanings, whether it is a past tense or future tense of the word. For example, \"is\" isn't a top 23 frequent word in `around_world.txt`, but \"was\" is. They share a lot of similarities for how frequently the words appear as well. If we look at the graphs for every text, their bars are extremely similar. There is a big drop from the first to second word except for `republic.txt`, and then it slowly declines / rounds out. We can also see that these words that appear on the list are \"common\" words as well. Words that we use on a daily to conversate smoothly, so it is not surprising to see these on the top frequently appearing words."
   ]
  },
  {
   "cell_type": "code",
   "execution_count": null,
   "id": "8b3c7edf",
   "metadata": {},
   "outputs": [],
   "source": []
  }
 ],
 "metadata": {
  "kernelspec": {
   "display_name": "Python 3 (ipykernel)",
   "language": "python",
   "name": "python3"
  },
  "language_info": {
   "codemirror_mode": {
    "name": "ipython",
    "version": 3
   },
   "file_extension": ".py",
   "mimetype": "text/x-python",
   "name": "python",
   "nbconvert_exporter": "python",
   "pygments_lexer": "ipython3",
   "version": "3.9.7"
  }
 },
 "nbformat": 4,
 "nbformat_minor": 5
}
